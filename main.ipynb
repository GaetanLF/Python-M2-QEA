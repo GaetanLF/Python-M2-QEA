{
 "cells": [
  {
   "cell_type": "markdown",
   "id": "0bae7525",
   "metadata": {},
   "source": [
    "# Python project\n",
    "\n",
    "### By : \n",
    "\n",
    "Lorem ipsum dolor sit amet.\n"
   ]
  },
  {
   "cell_type": "code",
   "execution_count": 1,
   "id": "b1ebe5d4",
   "metadata": {},
   "outputs": [],
   "source": [
    "# Import packages and third-party Python scripts\n",
    "\n",
    "import datavizToolbox as dt # Third-party script\n",
    "import pandas as pd\n",
    "import numpy as np\n",
    "\n",
    "import seaborn as sns # GLF : should be suppressed, only to load a mock dataset"
   ]
  },
  {
   "cell_type": "code",
   "execution_count": 2,
   "id": "9db62a23",
   "metadata": {},
   "outputs": [],
   "source": [
    "# Import the dataset\n",
    "\n",
    "df = sns.load_dataset('diamonds')"
   ]
  },
  {
   "cell_type": "code",
   "execution_count": 3,
   "id": "75144b48",
   "metadata": {},
   "outputs": [],
   "source": [
    "df2 = dt.dataset(df,\"cArAt\")"
   ]
  },
  {
   "cell_type": "code",
   "execution_count": 4,
   "id": "53fab2b6",
   "metadata": {},
   "outputs": [
    {
     "data": {
      "application/vnd.jupyter.widget-view+json": {
       "model_id": "bb7dd12a01704962955299fb756f9b20",
       "version_major": 2,
       "version_minor": 0
      },
      "text/plain": [
       "interactive(children=(Dropdown(description='Select :', options=('cut', 'color', 'clarity', 'depth', 'table', '…"
      ]
     },
     "metadata": {},
     "output_type": "display_data"
    }
   ],
   "source": [
    "df2.showScatters()"
   ]
  },
  {
   "cell_type": "code",
   "execution_count": 6,
   "id": "3dc4beed",
   "metadata": {},
   "outputs": [
    {
     "data": {
      "application/vnd.jupyter.widget-view+json": {
       "model_id": "3a89d1d176c24b9396fd9b933c03067e",
       "version_major": 2,
       "version_minor": 0
      },
      "text/plain": [
       "interactive(children=(Dropdown(description='Select :', options=('cut', 'color', 'clarity'), value='cut'), Outp…"
      ]
     },
     "metadata": {},
     "output_type": "display_data"
    }
   ],
   "source": [
    "df2.showBoxplots(['cut','color','clarity'])"
   ]
  }
 ],
 "metadata": {
  "kernelspec": {
   "display_name": "Python 3 (ipykernel)",
   "language": "python",
   "name": "python3"
  },
  "language_info": {
   "codemirror_mode": {
    "name": "ipython",
    "version": 3
   },
   "file_extension": ".py",
   "mimetype": "text/x-python",
   "name": "python",
   "nbconvert_exporter": "python",
   "pygments_lexer": "ipython3",
   "version": "3.9.7"
  }
 },
 "nbformat": 4,
 "nbformat_minor": 5
}
